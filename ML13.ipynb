{
  "nbformat": 4,
  "nbformat_minor": 0,
  "metadata": {
    "colab": {
      "provenance": [],
      "authorship_tag": "ABX9TyMkg/hEoFM2Cajao3rqTZAF",
      "include_colab_link": true
    },
    "kernelspec": {
      "name": "python3",
      "display_name": "Python 3"
    },
    "language_info": {
      "name": "python"
    }
  },
  "cells": [
    {
      "cell_type": "markdown",
      "metadata": {
        "id": "view-in-github",
        "colab_type": "text"
      },
      "source": [
        "<a href=\"https://colab.research.google.com/github/fadhan654/MachineLearning/blob/main/ML13.ipynb\" target=\"_parent\"><img src=\"https://colab.research.google.com/assets/colab-badge.svg\" alt=\"Open In Colab\"/></a>"
      ]
    },
    {
      "cell_type": "code",
      "execution_count": 1,
      "metadata": {
        "colab": {
          "base_uri": "https://localhost:8080/"
        },
        "id": "8UFljn3gcknG",
        "outputId": "ad5526da-8bf0-4761-a77a-87b87c5d8411"
      },
      "outputs": [
        {
          "output_type": "stream",
          "name": "stdout",
          "text": [
            "fadhlan going to market.\n"
          ]
        }
      ],
      "source": [
        "def to_lowercase(text):\n",
        "    return text.lower()\n",
        "\n",
        "# Contoh penggunaan\n",
        "sample_text = \"Fadhlan going to Market.\"\n",
        "print(to_lowercase(sample_text))"
      ]
    },
    {
      "cell_type": "code",
      "source": [
        "import string\n",
        "\n",
        "def remove_punctuation(text):\n",
        "    return text.translate(str.maketrans('', '', string.punctuation))\n",
        "\n",
        "# Contoh penggunaan\n",
        "sample_text = \"Don't go away, Stay tune!\"\n",
        "print(remove_punctuation(sample_text))"
      ],
      "metadata": {
        "colab": {
          "base_uri": "https://localhost:8080/"
        },
        "id": "45CnbNy3cx3b",
        "outputId": "7bc385fb-1692-46a5-bf36-3a5e146ee265"
      },
      "execution_count": 2,
      "outputs": [
        {
          "output_type": "stream",
          "name": "stdout",
          "text": [
            "Dont go away Stay tune\n"
          ]
        }
      ]
    },
    {
      "cell_type": "code",
      "source": [
        "import re\n",
        "\n",
        "def remove_numbers(text):\n",
        "    return re.sub(r'\\d+', '', text)\n",
        "\n",
        "# Contoh penggunaan\n",
        "sample_text = \"I have 4 children, 2 boys and 2 girls \"\n",
        "print(remove_numbers(sample_text))"
      ],
      "metadata": {
        "colab": {
          "base_uri": "https://localhost:8080/"
        },
        "id": "j1QoOftjc4df",
        "outputId": "2179bba8-d496-4c3c-8d2b-baa0b4aaeaf3"
      },
      "execution_count": 3,
      "outputs": [
        {
          "output_type": "stream",
          "name": "stdout",
          "text": [
            "I have  children,  boys and  girls \n"
          ]
        }
      ]
    },
    {
      "cell_type": "code",
      "source": [
        "from nltk.tokenize import word_tokenize\n",
        "import nltk\n",
        "\n",
        "nltk.download('punkt')\n",
        "\n",
        "def tokenize(text):\n",
        "    return word_tokenize(text)\n",
        "\n",
        "# Contoh penggunaan\n",
        "sample_text = \"Welcome to the jungle, yeayyy.\"\n",
        "print(tokenize(sample_text))"
      ],
      "metadata": {
        "colab": {
          "base_uri": "https://localhost:8080/"
        },
        "id": "_SPPtTa2c5uP",
        "outputId": "597faa96-608b-4f1d-83b6-a28b14d130df"
      },
      "execution_count": 4,
      "outputs": [
        {
          "output_type": "stream",
          "name": "stderr",
          "text": [
            "[nltk_data] Downloading package punkt to /root/nltk_data...\n",
            "[nltk_data]   Unzipping tokenizers/punkt.zip.\n"
          ]
        },
        {
          "output_type": "stream",
          "name": "stdout",
          "text": [
            "['Welcome', 'to', 'the', 'jungle', ',', 'yeayyy', '.']\n"
          ]
        }
      ]
    },
    {
      "cell_type": "code",
      "source": [
        "from nltk.corpus import stopwords\n",
        "\n",
        "nltk.download('stopwords')\n",
        "\n",
        "def remove_stopwords(words):\n",
        "    stop_words = set(stopwords.words('english'))\n",
        "    return [word for word in words if word not in stop_words]\n",
        "\n",
        "# Contoh penggunaan\n",
        "sample_text = \"I am a student at Nusa Putra University\"\n",
        "tokenized_text = tokenize(sample_text)\n",
        "print(remove_stopwords(tokenized_text))"
      ],
      "metadata": {
        "colab": {
          "base_uri": "https://localhost:8080/"
        },
        "id": "_CKS0kdtc_hX",
        "outputId": "d8670757-e490-4ddc-b94d-dd7a68d01e81"
      },
      "execution_count": 5,
      "outputs": [
        {
          "output_type": "stream",
          "name": "stdout",
          "text": [
            "['I', 'student', 'Nusa', 'Putra', 'University']\n"
          ]
        },
        {
          "output_type": "stream",
          "name": "stderr",
          "text": [
            "[nltk_data] Downloading package stopwords to /root/nltk_data...\n",
            "[nltk_data]   Unzipping corpora/stopwords.zip.\n"
          ]
        }
      ]
    },
    {
      "cell_type": "code",
      "source": [
        "from nltk.stem import PorterStemmer\n",
        "\n",
        "def stem_words(words):\n",
        "    ps = PorterStemmer()\n",
        "    return [ps.stem(word) for word in words]\n",
        "\n",
        "# Contoh penggunaan\n",
        "sample_text = \"They are my friends\"\n",
        "tokenized_text = tokenize(sample_text)\n",
        "filtered_words = remove_stopwords(tokenized_text)\n",
        "print(stem_words(filtered_words))"
      ],
      "metadata": {
        "colab": {
          "base_uri": "https://localhost:8080/"
        },
        "id": "pK7o4KUldEBL",
        "outputId": "c96a65bc-503a-40bb-c133-0c279752665f"
      },
      "execution_count": 6,
      "outputs": [
        {
          "output_type": "stream",
          "name": "stdout",
          "text": [
            "['they', 'friend']\n"
          ]
        }
      ]
    },
    {
      "cell_type": "code",
      "source": [
        "sentence1 = \"I love badminton\"\n",
        "sentence2 = \"Tontowi Ahmad great badminton player\"\n",
        "sentence3 = \"Tontowi Ahmad has won one\""
      ],
      "metadata": {
        "id": "8YHMGdj7dHps"
      },
      "execution_count": 9,
      "outputs": []
    },
    {
      "cell_type": "code",
      "source": [
        "import pandas as pd\n",
        "from sklearn.feature_extraction.text import CountVectorizer\n",
        "docs = [sentence1, sentence2, sentence3]\n",
        "print(docs)"
      ],
      "metadata": {
        "colab": {
          "base_uri": "https://localhost:8080/"
        },
        "id": "66hscLU3dMRx",
        "outputId": "a0dbac6c-275f-4407-f50f-ba352bb5c5c3"
      },
      "execution_count": 10,
      "outputs": [
        {
          "output_type": "stream",
          "name": "stdout",
          "text": [
            "['I love badminton', 'Tontowi Ahmad great badminton player', 'Tontowi Ahmad has won one']\n"
          ]
        }
      ]
    },
    {
      "cell_type": "code",
      "source": [
        "#Mendefinisikan dan menyesuaikan count vectorizer pada dokumen.\n",
        "\n",
        "vec = CountVectorizer()\n",
        "X = vec.fit_transform(docs)\n",
        "#Mengonversi vektor pada DataFrame menggunakan pandas\n",
        "\n",
        "df = pd.DataFrame(X.toarray(),\n",
        "    columns=vec.get_feature_names_out())\n",
        "df.head()"
      ],
      "metadata": {
        "colab": {
          "base_uri": "https://localhost:8080/",
          "height": 163
        },
        "id": "KgbuepANddL2",
        "outputId": "9ee79e8b-0cfc-4395-fa61-dd3bc7dcd388"
      },
      "execution_count": 11,
      "outputs": [
        {
          "output_type": "execute_result",
          "data": {
            "text/plain": [
              "   ahmad  badminton  great  has  love  one  player  tontowi  won\n",
              "0      0          1      0    0     1    0       0        0    0\n",
              "1      1          1      1    0     0    0       1        1    0\n",
              "2      1          0      0    1     0    1       0        1    1"
            ],
            "text/html": [
              "\n",
              "  <div id=\"df-f2043889-617e-4c76-93bd-24059d67f4af\" class=\"colab-df-container\">\n",
              "    <div>\n",
              "<style scoped>\n",
              "    .dataframe tbody tr th:only-of-type {\n",
              "        vertical-align: middle;\n",
              "    }\n",
              "\n",
              "    .dataframe tbody tr th {\n",
              "        vertical-align: top;\n",
              "    }\n",
              "\n",
              "    .dataframe thead th {\n",
              "        text-align: right;\n",
              "    }\n",
              "</style>\n",
              "<table border=\"1\" class=\"dataframe\">\n",
              "  <thead>\n",
              "    <tr style=\"text-align: right;\">\n",
              "      <th></th>\n",
              "      <th>ahmad</th>\n",
              "      <th>badminton</th>\n",
              "      <th>great</th>\n",
              "      <th>has</th>\n",
              "      <th>love</th>\n",
              "      <th>one</th>\n",
              "      <th>player</th>\n",
              "      <th>tontowi</th>\n",
              "      <th>won</th>\n",
              "    </tr>\n",
              "  </thead>\n",
              "  <tbody>\n",
              "    <tr>\n",
              "      <th>0</th>\n",
              "      <td>0</td>\n",
              "      <td>1</td>\n",
              "      <td>0</td>\n",
              "      <td>0</td>\n",
              "      <td>1</td>\n",
              "      <td>0</td>\n",
              "      <td>0</td>\n",
              "      <td>0</td>\n",
              "      <td>0</td>\n",
              "    </tr>\n",
              "    <tr>\n",
              "      <th>1</th>\n",
              "      <td>1</td>\n",
              "      <td>1</td>\n",
              "      <td>1</td>\n",
              "      <td>0</td>\n",
              "      <td>0</td>\n",
              "      <td>0</td>\n",
              "      <td>1</td>\n",
              "      <td>1</td>\n",
              "      <td>0</td>\n",
              "    </tr>\n",
              "    <tr>\n",
              "      <th>2</th>\n",
              "      <td>1</td>\n",
              "      <td>0</td>\n",
              "      <td>0</td>\n",
              "      <td>1</td>\n",
              "      <td>0</td>\n",
              "      <td>1</td>\n",
              "      <td>0</td>\n",
              "      <td>1</td>\n",
              "      <td>1</td>\n",
              "    </tr>\n",
              "  </tbody>\n",
              "</table>\n",
              "</div>\n",
              "    <div class=\"colab-df-buttons\">\n",
              "\n",
              "  <div class=\"colab-df-container\">\n",
              "    <button class=\"colab-df-convert\" onclick=\"convertToInteractive('df-f2043889-617e-4c76-93bd-24059d67f4af')\"\n",
              "            title=\"Convert this dataframe to an interactive table.\"\n",
              "            style=\"display:none;\">\n",
              "\n",
              "  <svg xmlns=\"http://www.w3.org/2000/svg\" height=\"24px\" viewBox=\"0 -960 960 960\">\n",
              "    <path d=\"M120-120v-720h720v720H120Zm60-500h600v-160H180v160Zm220 220h160v-160H400v160Zm0 220h160v-160H400v160ZM180-400h160v-160H180v160Zm440 0h160v-160H620v160ZM180-180h160v-160H180v160Zm440 0h160v-160H620v160Z\"/>\n",
              "  </svg>\n",
              "    </button>\n",
              "\n",
              "  <style>\n",
              "    .colab-df-container {\n",
              "      display:flex;\n",
              "      gap: 12px;\n",
              "    }\n",
              "\n",
              "    .colab-df-convert {\n",
              "      background-color: #E8F0FE;\n",
              "      border: none;\n",
              "      border-radius: 50%;\n",
              "      cursor: pointer;\n",
              "      display: none;\n",
              "      fill: #1967D2;\n",
              "      height: 32px;\n",
              "      padding: 0 0 0 0;\n",
              "      width: 32px;\n",
              "    }\n",
              "\n",
              "    .colab-df-convert:hover {\n",
              "      background-color: #E2EBFA;\n",
              "      box-shadow: 0px 1px 2px rgba(60, 64, 67, 0.3), 0px 1px 3px 1px rgba(60, 64, 67, 0.15);\n",
              "      fill: #174EA6;\n",
              "    }\n",
              "\n",
              "    .colab-df-buttons div {\n",
              "      margin-bottom: 4px;\n",
              "    }\n",
              "\n",
              "    [theme=dark] .colab-df-convert {\n",
              "      background-color: #3B4455;\n",
              "      fill: #D2E3FC;\n",
              "    }\n",
              "\n",
              "    [theme=dark] .colab-df-convert:hover {\n",
              "      background-color: #434B5C;\n",
              "      box-shadow: 0px 1px 3px 1px rgba(0, 0, 0, 0.15);\n",
              "      filter: drop-shadow(0px 1px 2px rgba(0, 0, 0, 0.3));\n",
              "      fill: #FFFFFF;\n",
              "    }\n",
              "  </style>\n",
              "\n",
              "    <script>\n",
              "      const buttonEl =\n",
              "        document.querySelector('#df-f2043889-617e-4c76-93bd-24059d67f4af button.colab-df-convert');\n",
              "      buttonEl.style.display =\n",
              "        google.colab.kernel.accessAllowed ? 'block' : 'none';\n",
              "\n",
              "      async function convertToInteractive(key) {\n",
              "        const element = document.querySelector('#df-f2043889-617e-4c76-93bd-24059d67f4af');\n",
              "        const dataTable =\n",
              "          await google.colab.kernel.invokeFunction('convertToInteractive',\n",
              "                                                    [key], {});\n",
              "        if (!dataTable) return;\n",
              "\n",
              "        const docLinkHtml = 'Like what you see? Visit the ' +\n",
              "          '<a target=\"_blank\" href=https://colab.research.google.com/notebooks/data_table.ipynb>data table notebook</a>'\n",
              "          + ' to learn more about interactive tables.';\n",
              "        element.innerHTML = '';\n",
              "        dataTable['output_type'] = 'display_data';\n",
              "        await google.colab.output.renderOutput(dataTable, element);\n",
              "        const docLink = document.createElement('div');\n",
              "        docLink.innerHTML = docLinkHtml;\n",
              "        element.appendChild(docLink);\n",
              "      }\n",
              "    </script>\n",
              "  </div>\n",
              "\n",
              "\n",
              "<div id=\"df-2dc5280c-039a-4e9d-b87a-4a33cf9221ec\">\n",
              "  <button class=\"colab-df-quickchart\" onclick=\"quickchart('df-2dc5280c-039a-4e9d-b87a-4a33cf9221ec')\"\n",
              "            title=\"Suggest charts\"\n",
              "            style=\"display:none;\">\n",
              "\n",
              "<svg xmlns=\"http://www.w3.org/2000/svg\" height=\"24px\"viewBox=\"0 0 24 24\"\n",
              "     width=\"24px\">\n",
              "    <g>\n",
              "        <path d=\"M19 3H5c-1.1 0-2 .9-2 2v14c0 1.1.9 2 2 2h14c1.1 0 2-.9 2-2V5c0-1.1-.9-2-2-2zM9 17H7v-7h2v7zm4 0h-2V7h2v10zm4 0h-2v-4h2v4z\"/>\n",
              "    </g>\n",
              "</svg>\n",
              "  </button>\n",
              "\n",
              "<style>\n",
              "  .colab-df-quickchart {\n",
              "      --bg-color: #E8F0FE;\n",
              "      --fill-color: #1967D2;\n",
              "      --hover-bg-color: #E2EBFA;\n",
              "      --hover-fill-color: #174EA6;\n",
              "      --disabled-fill-color: #AAA;\n",
              "      --disabled-bg-color: #DDD;\n",
              "  }\n",
              "\n",
              "  [theme=dark] .colab-df-quickchart {\n",
              "      --bg-color: #3B4455;\n",
              "      --fill-color: #D2E3FC;\n",
              "      --hover-bg-color: #434B5C;\n",
              "      --hover-fill-color: #FFFFFF;\n",
              "      --disabled-bg-color: #3B4455;\n",
              "      --disabled-fill-color: #666;\n",
              "  }\n",
              "\n",
              "  .colab-df-quickchart {\n",
              "    background-color: var(--bg-color);\n",
              "    border: none;\n",
              "    border-radius: 50%;\n",
              "    cursor: pointer;\n",
              "    display: none;\n",
              "    fill: var(--fill-color);\n",
              "    height: 32px;\n",
              "    padding: 0;\n",
              "    width: 32px;\n",
              "  }\n",
              "\n",
              "  .colab-df-quickchart:hover {\n",
              "    background-color: var(--hover-bg-color);\n",
              "    box-shadow: 0 1px 2px rgba(60, 64, 67, 0.3), 0 1px 3px 1px rgba(60, 64, 67, 0.15);\n",
              "    fill: var(--button-hover-fill-color);\n",
              "  }\n",
              "\n",
              "  .colab-df-quickchart-complete:disabled,\n",
              "  .colab-df-quickchart-complete:disabled:hover {\n",
              "    background-color: var(--disabled-bg-color);\n",
              "    fill: var(--disabled-fill-color);\n",
              "    box-shadow: none;\n",
              "  }\n",
              "\n",
              "  .colab-df-spinner {\n",
              "    border: 2px solid var(--fill-color);\n",
              "    border-color: transparent;\n",
              "    border-bottom-color: var(--fill-color);\n",
              "    animation:\n",
              "      spin 1s steps(1) infinite;\n",
              "  }\n",
              "\n",
              "  @keyframes spin {\n",
              "    0% {\n",
              "      border-color: transparent;\n",
              "      border-bottom-color: var(--fill-color);\n",
              "      border-left-color: var(--fill-color);\n",
              "    }\n",
              "    20% {\n",
              "      border-color: transparent;\n",
              "      border-left-color: var(--fill-color);\n",
              "      border-top-color: var(--fill-color);\n",
              "    }\n",
              "    30% {\n",
              "      border-color: transparent;\n",
              "      border-left-color: var(--fill-color);\n",
              "      border-top-color: var(--fill-color);\n",
              "      border-right-color: var(--fill-color);\n",
              "    }\n",
              "    40% {\n",
              "      border-color: transparent;\n",
              "      border-right-color: var(--fill-color);\n",
              "      border-top-color: var(--fill-color);\n",
              "    }\n",
              "    60% {\n",
              "      border-color: transparent;\n",
              "      border-right-color: var(--fill-color);\n",
              "    }\n",
              "    80% {\n",
              "      border-color: transparent;\n",
              "      border-right-color: var(--fill-color);\n",
              "      border-bottom-color: var(--fill-color);\n",
              "    }\n",
              "    90% {\n",
              "      border-color: transparent;\n",
              "      border-bottom-color: var(--fill-color);\n",
              "    }\n",
              "  }\n",
              "</style>\n",
              "\n",
              "  <script>\n",
              "    async function quickchart(key) {\n",
              "      const quickchartButtonEl =\n",
              "        document.querySelector('#' + key + ' button');\n",
              "      quickchartButtonEl.disabled = true;  // To prevent multiple clicks.\n",
              "      quickchartButtonEl.classList.add('colab-df-spinner');\n",
              "      try {\n",
              "        const charts = await google.colab.kernel.invokeFunction(\n",
              "            'suggestCharts', [key], {});\n",
              "      } catch (error) {\n",
              "        console.error('Error during call to suggestCharts:', error);\n",
              "      }\n",
              "      quickchartButtonEl.classList.remove('colab-df-spinner');\n",
              "      quickchartButtonEl.classList.add('colab-df-quickchart-complete');\n",
              "    }\n",
              "    (() => {\n",
              "      let quickchartButtonEl =\n",
              "        document.querySelector('#df-2dc5280c-039a-4e9d-b87a-4a33cf9221ec button');\n",
              "      quickchartButtonEl.style.display =\n",
              "        google.colab.kernel.accessAllowed ? 'block' : 'none';\n",
              "    })();\n",
              "  </script>\n",
              "</div>\n",
              "    </div>\n",
              "  </div>\n"
            ],
            "application/vnd.google.colaboratory.intrinsic+json": {
              "type": "dataframe",
              "variable_name": "df",
              "summary": "{\n  \"name\": \"df\",\n  \"rows\": 3,\n  \"fields\": [\n    {\n      \"column\": \"ahmad\",\n      \"properties\": {\n        \"dtype\": \"number\",\n        \"std\": 0,\n        \"min\": 0,\n        \"max\": 1,\n        \"num_unique_values\": 2,\n        \"samples\": [\n          1,\n          0\n        ],\n        \"semantic_type\": \"\",\n        \"description\": \"\"\n      }\n    },\n    {\n      \"column\": \"badminton\",\n      \"properties\": {\n        \"dtype\": \"number\",\n        \"std\": 0,\n        \"min\": 0,\n        \"max\": 1,\n        \"num_unique_values\": 2,\n        \"samples\": [\n          0,\n          1\n        ],\n        \"semantic_type\": \"\",\n        \"description\": \"\"\n      }\n    },\n    {\n      \"column\": \"great\",\n      \"properties\": {\n        \"dtype\": \"number\",\n        \"std\": 0,\n        \"min\": 0,\n        \"max\": 1,\n        \"num_unique_values\": 2,\n        \"samples\": [\n          1,\n          0\n        ],\n        \"semantic_type\": \"\",\n        \"description\": \"\"\n      }\n    },\n    {\n      \"column\": \"has\",\n      \"properties\": {\n        \"dtype\": \"number\",\n        \"std\": 0,\n        \"min\": 0,\n        \"max\": 1,\n        \"num_unique_values\": 2,\n        \"samples\": [\n          1,\n          0\n        ],\n        \"semantic_type\": \"\",\n        \"description\": \"\"\n      }\n    },\n    {\n      \"column\": \"love\",\n      \"properties\": {\n        \"dtype\": \"number\",\n        \"std\": 0,\n        \"min\": 0,\n        \"max\": 1,\n        \"num_unique_values\": 2,\n        \"samples\": [\n          0,\n          1\n        ],\n        \"semantic_type\": \"\",\n        \"description\": \"\"\n      }\n    },\n    {\n      \"column\": \"one\",\n      \"properties\": {\n        \"dtype\": \"number\",\n        \"std\": 0,\n        \"min\": 0,\n        \"max\": 1,\n        \"num_unique_values\": 2,\n        \"samples\": [\n          1,\n          0\n        ],\n        \"semantic_type\": \"\",\n        \"description\": \"\"\n      }\n    },\n    {\n      \"column\": \"player\",\n      \"properties\": {\n        \"dtype\": \"number\",\n        \"std\": 0,\n        \"min\": 0,\n        \"max\": 1,\n        \"num_unique_values\": 2,\n        \"samples\": [\n          1,\n          0\n        ],\n        \"semantic_type\": \"\",\n        \"description\": \"\"\n      }\n    },\n    {\n      \"column\": \"tontowi\",\n      \"properties\": {\n        \"dtype\": \"number\",\n        \"std\": 0,\n        \"min\": 0,\n        \"max\": 1,\n        \"num_unique_values\": 2,\n        \"samples\": [\n          1,\n          0\n        ],\n        \"semantic_type\": \"\",\n        \"description\": \"\"\n      }\n    },\n    {\n      \"column\": \"won\",\n      \"properties\": {\n        \"dtype\": \"number\",\n        \"std\": 0,\n        \"min\": 0,\n        \"max\": 1,\n        \"num_unique_values\": 2,\n        \"samples\": [\n          1,\n          0\n        ],\n        \"semantic_type\": \"\",\n        \"description\": \"\"\n      }\n    }\n  ]\n}"
            }
          },
          "metadata": {},
          "execution_count": 11
        }
      ]
    },
    {
      "cell_type": "code",
      "source": [
        "import numpy as np\n",
        "from collections import Counter\n",
        "from math import log\n",
        "\n",
        "# Tiga dokumen dalam korpus\n",
        "documents = [\n",
        "    \"Ginting beats Kento Momota in badminton match\",\n",
        "    \"Kento Momota's badminton rank is below Ginting\"\n",
        "    ]\n",
        "\n",
        "# Preprocessing: Lowercasing and tokenizing\n",
        "tokenized_documents = [doc.lower().split() for doc in documents]\n",
        "\n",
        "# Menghitung TF\n",
        "def compute_tf(tokenized_doc):\n",
        "    tf_dict = {}\n",
        "    term_count = Counter(tokenized_doc)\n",
        "    total_terms = len(tokenized_doc)\n",
        "    for term, count in term_count.items():\n",
        "        tf_dict[term] = count / total_terms\n",
        "    return tf_dict\n",
        "\n",
        "tf_list = [compute_tf(doc) for doc in tokenized_documents]\n",
        "\n",
        "print(\"Term Frequency (TF):\")\n",
        "for idx, tf in enumerate(tf_list):\n",
        "    print(f\"Document {idx + 1} TF:\")\n",
        "    for term, score in tf.items():\n",
        "        print(f\"    {term}: {score:.4f}\")"
      ],
      "metadata": {
        "colab": {
          "base_uri": "https://localhost:8080/"
        },
        "id": "SF0pV23XdkXc",
        "outputId": "3fa917a8-d47e-4366-eaca-1be232c79e63"
      },
      "execution_count": 12,
      "outputs": [
        {
          "output_type": "stream",
          "name": "stdout",
          "text": [
            "Term Frequency (TF):\n",
            "Document 1 TF:\n",
            "    ginting: 0.1429\n",
            "    beats: 0.1429\n",
            "    kento: 0.1429\n",
            "    momota: 0.1429\n",
            "    in: 0.1429\n",
            "    badminton: 0.1429\n",
            "    match: 0.1429\n",
            "Document 2 TF:\n",
            "    kento: 0.1429\n",
            "    momota's: 0.1429\n",
            "    badminton: 0.1429\n",
            "    rank: 0.1429\n",
            "    is: 0.1429\n",
            "    below: 0.1429\n",
            "    ginting: 0.1429\n"
          ]
        }
      ]
    },
    {
      "cell_type": "code",
      "source": [
        "# Menghitung IDF\n",
        "def compute_idf(tokenized_docs):\n",
        "    idf_dict = {}\n",
        "    total_docs = len(tokenized_docs)\n",
        "    all_terms = set(term for doc in tokenized_docs for term in doc)\n",
        "    for term in all_terms:\n",
        "        doc_containing_term = sum(1 for doc in tokenized_docs if term in doc)\n",
        "        idf_dict[term] = log(total_docs / (1 + doc_containing_term)) + 1\n",
        "    return idf_dict\n",
        "\n",
        "idf_dict = compute_idf(tokenized_documents)\n",
        "\n",
        "print(\"\\nInverse Document Frequency (IDF):\")\n",
        "for term, score in idf_dict.items():\n",
        "    print(f\"    {term}: {score:.4f}\")"
      ],
      "metadata": {
        "colab": {
          "base_uri": "https://localhost:8080/"
        },
        "id": "S6cl9E0xdqJv",
        "outputId": "2fe62eac-25f4-4da3-8a04-6f38af258e79"
      },
      "execution_count": 13,
      "outputs": [
        {
          "output_type": "stream",
          "name": "stdout",
          "text": [
            "\n",
            "Inverse Document Frequency (IDF):\n",
            "    ginting: 0.5945\n",
            "    rank: 1.0000\n",
            "    is: 1.0000\n",
            "    match: 1.0000\n",
            "    below: 1.0000\n",
            "    badminton: 0.5945\n",
            "    momota's: 1.0000\n",
            "    in: 1.0000\n",
            "    momota: 1.0000\n",
            "    kento: 0.5945\n",
            "    beats: 1.0000\n"
          ]
        }
      ]
    },
    {
      "cell_type": "code",
      "source": [
        "# Menghitung TF-IDF\n",
        "def compute_tfidf(tf_list, idf_dict):\n",
        "    tfidf_list = []\n",
        "    for tf in tf_list:\n",
        "        tfidf_dict = {}\n",
        "        for term, tf_value in tf.items():\n",
        "            tfidf_dict[term] = tf_value * idf_dict.get(term, 0)\n",
        "        tfidf_list.append(tfidf_dict)\n",
        "    return tfidf_list\n",
        "\n",
        "tfidf_list = compute_tfidf(tf_list, idf_dict)\n",
        "\n",
        "print(\"\\nTF-IDF:\")\n",
        "for idx, tfidf in enumerate(tfidf_list):\n",
        "    print(f\"Document {idx + 1} TF-IDF:\")\n",
        "    for term, score in tfidf.items():\n",
        "        print(f\"    {term}: {score:.4f}\")"
      ],
      "metadata": {
        "colab": {
          "base_uri": "https://localhost:8080/"
        },
        "id": "TA-qC8qzdwNU",
        "outputId": "ebcf8b11-7c5a-492b-fd4a-acd7b3b8103e"
      },
      "execution_count": 16,
      "outputs": [
        {
          "output_type": "stream",
          "name": "stdout",
          "text": [
            "\n",
            "TF-IDF:\n",
            "Document 1 TF-IDF:\n",
            "    ginting: 0.0849\n",
            "    beats: 0.1429\n",
            "    kento: 0.0849\n",
            "    momota: 0.1429\n",
            "    in: 0.1429\n",
            "    badminton: 0.0849\n",
            "    match: 0.1429\n",
            "Document 2 TF-IDF:\n",
            "    kento: 0.0849\n",
            "    momota's: 0.1429\n",
            "    badminton: 0.0849\n",
            "    rank: 0.1429\n",
            "    is: 0.1429\n",
            "    below: 0.1429\n",
            "    ginting: 0.0849\n"
          ]
        }
      ]
    },
    {
      "cell_type": "code",
      "source": [
        "from gensim.models import Word2Vec\n",
        "import numpy as np\n",
        "\n",
        "corpus = [\n",
        "    \"Ginting is the first rank.\",\n",
        "    \"second rank is Axelsen.\",\n",
        "    \"And the third rank is Kento Momota.\"\n",
        "]\n",
        "\n",
        "sentences = [doc.split() for doc in corpus]\n",
        "model = Word2Vec(sentences, vector_size=100, window=5, min_count=1, workers=4)\n",
        "\n",
        "def document_vector(doc):\n",
        "    return np.mean([model.wv[word] for word in doc.split() if word in model.wv], axis=0)\n",
        "\n",
        "doc_vectors = [document_vector(doc) for doc in corpus]\n",
        "print(doc_vectors)"
      ],
      "metadata": {
        "colab": {
          "base_uri": "https://localhost:8080/"
        },
        "id": "XluBPi9sd0j-",
        "outputId": "b569f3ed-c2e1-4cd5-f212-203f3c53ea4d"
      },
      "execution_count": 15,
      "outputs": [
        {
          "output_type": "stream",
          "name": "stdout",
          "text": [
            "[array([ 2.2522365e-03,  6.4851937e-04, -5.1531941e-05,  2.3106909e-03,\n",
            "       -2.0476163e-03, -3.9441790e-03, -1.3600638e-03,  5.6396397e-03,\n",
            "       -4.9265120e-03, -2.7241032e-03,  3.5401578e-03, -1.7015550e-03,\n",
            "        1.9902207e-03,  1.4584693e-04,  1.9163847e-03, -3.3103675e-05,\n",
            "        2.2207857e-03, -1.6701591e-03, -2.3737033e-03, -7.6351985e-03,\n",
            "       -1.2437934e-03, -1.2981085e-03,  1.3057077e-03, -4.3931203e-03,\n",
            "        1.1771233e-03, -3.2708594e-03, -1.4812399e-03,  4.6744170e-03,\n",
            "       -1.1120265e-03, -9.3837174e-05, -6.5763292e-05, -2.1459344e-03,\n",
            "        3.2268316e-03,  1.5489327e-03, -2.5710168e-03,  1.4511810e-03,\n",
            "        2.5768352e-03, -7.0543494e-05, -2.2386808e-03, -1.4686211e-03,\n",
            "       -4.1319234e-03,  2.1915704e-03, -3.4602578e-03,  2.5354628e-03,\n",
            "       -1.0085892e-03, -5.5950909e-04, -5.5201852e-04,  2.3073819e-03,\n",
            "       -1.0541726e-03,  5.0537498e-03, -1.3581451e-03,  6.6939119e-04,\n",
            "       -2.6750148e-03,  1.5135758e-03, -1.3748379e-04, -3.7581965e-03,\n",
            "       -1.1754821e-03, -1.9122878e-03,  5.0229486e-05,  1.1477510e-03,\n",
            "       -1.4504042e-03,  3.6993119e-04,  3.4214749e-03, -1.6519770e-03,\n",
            "       -5.8718738e-03,  3.8191967e-03,  1.6550263e-04,  4.6668126e-04,\n",
            "       -2.6671079e-03,  6.0465920e-04,  2.3992208e-03,  7.5320592e-03,\n",
            "       -3.8685984e-04, -5.8068632e-04,  1.3687483e-03,  3.7363518e-03,\n",
            "        3.9022029e-03, -4.1127647e-04, -8.2712807e-04, -1.2274745e-03,\n",
            "        1.4929979e-03,  2.0136356e-03, -8.9271029e-04,  4.0643206e-03,\n",
            "       -1.1760329e-03, -1.0983867e-03, -3.5591901e-03, -2.7585155e-03,\n",
            "        5.3346143e-03,  4.6593971e-03,  8.6195767e-05,  2.5438908e-03,\n",
            "        1.2336137e-03,  2.6285599e-03,  5.7701645e-03, -4.8956799e-04,\n",
            "       -2.0973312e-03, -1.8293917e-03,  3.4776267e-03, -1.5095428e-03],\n",
            "      dtype=float32), array([-2.6415852e-03,  2.1005629e-03,  5.8609340e-03,  8.0599021e-03,\n",
            "        9.3062292e-05, -2.5141605e-03,  5.4107495e-03,  1.6673275e-03,\n",
            "       -5.0546885e-03, -3.0554589e-03,  2.5071357e-03, -3.9657382e-03,\n",
            "        1.0078049e-03,  1.9065575e-03,  1.9672941e-03,  2.1765635e-03,\n",
            "        2.0514922e-03,  1.6286725e-03, -6.4477082e-03, -5.5627385e-03,\n",
            "        2.6821243e-03,  4.1739526e-03,  6.4920736e-03, -6.1644246e-03,\n",
            "        2.1630195e-03,  2.0841309e-03, -3.0385666e-03,  1.7981454e-03,\n",
            "       -3.7287795e-03,  7.7230926e-04,  5.6428323e-04, -1.9511365e-03,\n",
            "        3.3543087e-03, -2.4921522e-03, -4.8263581e-04,  1.0539917e-03,\n",
            "        1.9220433e-03,  1.5799032e-03,  1.4901108e-03, -4.6099536e-04,\n",
            "        1.2415405e-03, -1.8267310e-04, -4.7478825e-03, -6.0882187e-04,\n",
            "        1.1186771e-03,  1.1702068e-06, -2.0013228e-03,  2.3252978e-03,\n",
            "        2.8469814e-03,  2.0139574e-03, -2.2678911e-03, -1.5480028e-03,\n",
            "        1.2420132e-03, -2.0103154e-03,  1.6287380e-03,  2.7660597e-03,\n",
            "        1.6645247e-03,  1.0604942e-03,  5.9375202e-04,  4.2318082e-03,\n",
            "       -2.1537358e-03, -9.4964111e-04, -8.3377783e-04, -1.3664020e-03,\n",
            "       -1.3144966e-03,  3.3860086e-03, -1.7532876e-03,  3.8393396e-03,\n",
            "       -1.5604026e-03,  1.4231119e-03, -1.1285760e-03,  9.8375429e-05,\n",
            "        3.6723544e-03,  6.0398475e-04, -2.0440761e-03, -2.4782992e-03,\n",
            "        4.6798144e-04, -4.0560723e-03, -1.0813905e-03, -5.6335749e-03,\n",
            "       -4.4589741e-03, -2.6764185e-04,  2.0763041e-03,  1.1332876e-03,\n",
            "        7.3322473e-04, -2.6572080e-04,  2.9766059e-03, -3.0752257e-03,\n",
            "        1.4655885e-03,  1.1220943e-03, -7.7010191e-05, -1.0648018e-03,\n",
            "        7.8067183e-05, -7.3055096e-04,  3.7211892e-03,  3.8518081e-03,\n",
            "       -7.3159352e-04, -1.7126239e-03,  3.3612724e-04,  2.6190374e-04],\n",
            "      dtype=float32), array([-3.57689359e-03,  2.17038603e-03, -8.33670143e-04,  1.21589648e-04,\n",
            "        6.48032466e-04, -6.37543970e-04,  2.62553664e-03,  4.34135273e-03,\n",
            "       -3.42317647e-03, -1.77152373e-03,  9.00879211e-04, -6.45749155e-04,\n",
            "       -1.86481012e-03,  1.43640977e-03,  2.57299544e-04, -2.32335902e-03,\n",
            "        3.38429632e-03,  2.83102016e-03, -3.38629424e-03, -3.41228046e-03,\n",
            "       -3.95488983e-04, -2.57559493e-03,  6.60171593e-03,  1.43142953e-03,\n",
            "        4.05530183e-04, -4.69979452e-04,  1.53289572e-03,  1.45847374e-03,\n",
            "       -2.95509445e-03,  1.75119948e-03,  3.97340301e-03, -2.01871456e-03,\n",
            "       -1.38205872e-03, -4.58060112e-03, -1.09157925e-04,  1.82640390e-03,\n",
            "        2.83984724e-03, -3.76997748e-04,  1.58577620e-06,  3.73505376e-04,\n",
            "        2.10600183e-03, -2.14901194e-03, -3.03561776e-03, -1.75214169e-04,\n",
            "        2.42893188e-03,  2.07197806e-03, -3.41701059e-04,  1.05526335e-04,\n",
            "       -1.82137155e-04, -5.43863804e-04,  1.69616879e-03, -2.91822245e-03,\n",
            "       -1.68643612e-03, -9.02077649e-04, -3.84144112e-03, -2.29779072e-03,\n",
            "        1.64927857e-03, -2.93146097e-03, -2.88325013e-03, -1.93429494e-03,\n",
            "        1.05711597e-03, -9.50838090e-04,  3.65551771e-03, -2.61049904e-03,\n",
            "       -5.46833558e-04,  2.74633477e-03,  2.63100886e-03,  2.88255466e-03,\n",
            "       -3.37956590e-03,  6.18370250e-05,  9.19690181e-04,  2.77498295e-03,\n",
            "        1.30497606e-03,  3.32978554e-03,  1.04297453e-03,  7.43089884e-04,\n",
            "       -3.58081801e-04,  3.68161430e-03, -1.62760000e-04, -1.33754814e-03,\n",
            "       -1.25142920e-03, -2.35583656e-03,  1.16606511e-03, -9.68365290e-04,\n",
            "       -2.01516529e-03, -4.51251864e-03,  3.29866377e-03, -1.52318447e-03,\n",
            "       -1.71279081e-03, -1.32852350e-03,  4.14658753e-05,  1.13156915e-03,\n",
            "        1.08433247e-03, -3.14166630e-03,  5.19554736e-03,  1.50318281e-03,\n",
            "        2.99982727e-03, -3.71113047e-03, -1.16063784e-04,  3.40951192e-05],\n",
            "      dtype=float32)]\n"
          ]
        }
      ]
    },
    {
      "cell_type": "code",
      "source": [
        "!pip install numpy pandas scikit-learn"
      ],
      "metadata": {
        "colab": {
          "base_uri": "https://localhost:8080/"
        },
        "id": "NhS5lLl5eLj7",
        "outputId": "f1fd26fe-76f6-4554-9626-6e00a55ee1e3"
      },
      "execution_count": 17,
      "outputs": [
        {
          "output_type": "stream",
          "name": "stdout",
          "text": [
            "Requirement already satisfied: numpy in /usr/local/lib/python3.10/dist-packages (1.25.2)\n",
            "Requirement already satisfied: pandas in /usr/local/lib/python3.10/dist-packages (2.0.3)\n",
            "Requirement already satisfied: scikit-learn in /usr/local/lib/python3.10/dist-packages (1.2.2)\n",
            "Requirement already satisfied: python-dateutil>=2.8.2 in /usr/local/lib/python3.10/dist-packages (from pandas) (2.8.2)\n",
            "Requirement already satisfied: pytz>=2020.1 in /usr/local/lib/python3.10/dist-packages (from pandas) (2023.4)\n",
            "Requirement already satisfied: tzdata>=2022.1 in /usr/local/lib/python3.10/dist-packages (from pandas) (2024.1)\n",
            "Requirement already satisfied: scipy>=1.3.2 in /usr/local/lib/python3.10/dist-packages (from scikit-learn) (1.11.4)\n",
            "Requirement already satisfied: joblib>=1.1.1 in /usr/local/lib/python3.10/dist-packages (from scikit-learn) (1.4.2)\n",
            "Requirement already satisfied: threadpoolctl>=2.0.0 in /usr/local/lib/python3.10/dist-packages (from scikit-learn) (3.5.0)\n",
            "Requirement already satisfied: six>=1.5 in /usr/local/lib/python3.10/dist-packages (from python-dateutil>=2.8.2->pandas) (1.16.0)\n"
          ]
        }
      ]
    },
    {
      "cell_type": "code",
      "source": [
        "import numpy as np\n",
        "import pandas as pd\n",
        "from sklearn.datasets import fetch_20newsgroups\n",
        "from sklearn.feature_extraction.text import TfidfVectorizer\n",
        "from sklearn.naive_bayes import MultinomialNB\n",
        "from sklearn.pipeline import make_pipeline\n",
        "from sklearn.model_selection import train_test_split\n",
        "from sklearn import metrics\n",
        "\n",
        "# 1. Mengumpulkan data\n",
        "newsgroups = fetch_20newsgroups(subset='all')\n",
        "\n",
        "# 2. Preprocessing data\n",
        "# Tidak perlu preprocessing khusus karena kita akan menggunakan TfidfVectorizer\n",
        "\n",
        "# 3. Membagi data menjadi training dan testing set\n",
        "X_train, X_test, y_train, y_test = train_test_split(newsgroups.data, newsgroups.target, test_size=0.25, random_state=42)\n",
        "\n",
        "# 4. Melatih model\n",
        "# Membuat pipeline yang mencakup TfidfVectorizer dan MultinomialNB\n",
        "model = make_pipeline(TfidfVectorizer(), MultinomialNB())\n",
        "\n",
        "# Melatih model menggunakan training set\n",
        "model.fit(X_train, y_train)\n",
        "\n",
        "# 5. Mengevaluasi model\n",
        "# Prediksi pada testing set\n",
        "y_pred = model.predict(X_test)\n",
        "\n",
        "# Evaluasi kinerja model\n",
        "print(f\"Accuracy: {metrics.accuracy_score(y_test, y_pred)}\")\n",
        "print(\"Classification Report:\")\n",
        "print(metrics.classification_report(y_test, y_pred, target_names=newsgroups.target_names))\n",
        "\n",
        "# Confusion Matrix\n",
        "print(\"Confusion Matrix:\")\n",
        "print(metrics.confusion_matrix(y_test, y_pred))"
      ],
      "metadata": {
        "colab": {
          "base_uri": "https://localhost:8080/"
        },
        "id": "X3N_8kXLeTYv",
        "outputId": "702fdddd-4dc9-46f3-df60-e48ef78e482d"
      },
      "execution_count": 18,
      "outputs": [
        {
          "output_type": "stream",
          "name": "stdout",
          "text": [
            "Accuracy: 0.8425297113752123\n",
            "Classification Report:\n",
            "                          precision    recall  f1-score   support\n",
            "\n",
            "             alt.atheism       0.88      0.72      0.79       198\n",
            "           comp.graphics       0.86      0.79      0.82       245\n",
            " comp.os.ms-windows.misc       0.88      0.83      0.85       242\n",
            "comp.sys.ibm.pc.hardware       0.66      0.86      0.75       238\n",
            "   comp.sys.mac.hardware       0.95      0.84      0.89       250\n",
            "          comp.windows.x       0.96      0.80      0.87       260\n",
            "            misc.forsale       0.96      0.66      0.78       241\n",
            "               rec.autos       0.89      0.93      0.91       244\n",
            "         rec.motorcycles       0.91      0.95      0.93       219\n",
            "      rec.sport.baseball       0.96      0.94      0.95       261\n",
            "        rec.sport.hockey       0.90      0.98      0.94       245\n",
            "               sci.crypt       0.78      0.98      0.87       251\n",
            "         sci.electronics       0.92      0.80      0.86       249\n",
            "                 sci.med       0.97      0.88      0.92       249\n",
            "               sci.space       0.88      0.98      0.93       240\n",
            "  soc.religion.christian       0.49      0.99      0.66       245\n",
            "      talk.politics.guns       0.78      0.96      0.86       230\n",
            "   talk.politics.mideast       0.93      0.97      0.95       234\n",
            "      talk.politics.misc       1.00      0.57      0.73       207\n",
            "      talk.religion.misc       1.00      0.16      0.28       164\n",
            "\n",
            "                accuracy                           0.84      4712\n",
            "               macro avg       0.88      0.83      0.83      4712\n",
            "            weighted avg       0.88      0.84      0.84      4712\n",
            "\n",
            "Confusion Matrix:\n",
            "[[143   0   0   0   0   0   0   0   0   0   0   0   0   0   2  49   1   3\n",
            "    0   0]\n",
            " [  0 193   4  12   0   5   1   2   2   0   0   7   0   0   3  14   0   2\n",
            "    0   0]\n",
            " [  0   5 200  24   1   2   0   2   0   0   0   2   1   0   2   3   0   0\n",
            "    0   0]\n",
            " [  0   5   8 205   7   0   0   1   0   1   2   2   4   0   0   3   0   0\n",
            "    0   0]\n",
            " [  0   1   4  16 209   1   0   2   1   0   3   7   2   0   2   2   0   0\n",
            "    0   0]\n",
            " [  1  13   5   8   1 207   0   0   5   1   2   5   0   0   6   5   1   0\n",
            "    0   0]\n",
            " [  0   0   2  31   2   0 158  12   5   1   2  11   5   1   2   7   1   1\n",
            "    0   0]\n",
            " [  0   2   0   0   0   0   2 226   1   0   1   2   2   1   0   5   2   0\n",
            "    0   0]\n",
            " [  0   0   0   1   0   0   3   3 208   0   0   0   0   0   0   2   2   0\n",
            "    0   0]\n",
            " [  0   0   0   0   0   0   0   0   0 246  10   0   0   0   1   3   0   1\n",
            "    0   0]\n",
            " [  0   0   0   1   0   0   0   1   2   0 240   0   0   0   0   1   0   0\n",
            "    0   0]\n",
            " [  0   1   2   0   0   0   0   0   0   0   0 245   0   0   0   3   0   0\n",
            "    0   0]\n",
            " [  0   3   0  11   0   0   1   5   1   2   2  15 200   1   5   3   0   0\n",
            "    0   0]\n",
            " [  0   0   0   0   0   0   0   1   1   1   0   6   3 218   3  13   3   0\n",
            "    0   0]\n",
            " [  0   1   0   0   0   0   0   0   0   0   0   0   0   2 235   2   0   0\n",
            "    0   0]\n",
            " [  1   0   0   0   0   0   0   0   0   0   0   0   0   0   0 243   0   1\n",
            "    0   0]\n",
            " [  0   0   1   0   0   0   0   0   0   0   0   4   0   0   0   4 221   0\n",
            "    0   0]\n",
            " [  0   0   0   0   0   0   0   0   0   0   0   1   0   0   0   5   0 228\n",
            "    0   0]\n",
            " [  0   0   0   0   0   0   0   0   1   1   1   4   0   2   6  25  41   8\n",
            "  118   0]\n",
            " [ 17   0   0   0   0   0   0   0   2   2   3   2   0   0   0 100  10   1\n",
            "    0  27]]\n"
          ]
        }
      ]
    }
  ]
}